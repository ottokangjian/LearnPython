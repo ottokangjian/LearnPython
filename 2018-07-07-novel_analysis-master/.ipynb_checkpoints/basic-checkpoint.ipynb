{
 "cells": [
  {
   "cell_type": "code",
   "execution_count": 1,
   "metadata": {},
   "outputs": [
    {
     "name": "stderr",
     "output_type": "stream",
     "text": [
      "Building prefix dict from the default dictionary ...\n",
      "Loading model from cache /var/folders/n6/r0nbs_y12bb8yjl6_08ry0kw0000gp/T/jieba.cache\n",
      "Loading model cost 0.672 seconds.\n",
      "Prefix dict has been built succesfully.\n"
     ]
    }
   ],
   "source": [
    "#!/usr/bin/env python3\n",
    "# -*- coding:utf-8 -*-\n",
    "import jieba.posseg\n",
    "import re\n",
    "jieba.load_userdict(\"data/person.txt\")\n",
    "\n",
    "STOP_WORDS = set([w.strip() for w in open(\"data/stopwords.txt\").readlines()])"
   ]
  },
  {
   "cell_type": "code",
   "execution_count": 4,
   "metadata": {},
   "outputs": [],
   "source": [
    "class MyChapters(object):\n",
    "    def __init__(self, chapter_list):\n",
    "        self.chapter_list = chapter_list\n",
    "        \n",
    "    def __iter__(self):\n",
    "        for chapter in self.chapter_list:\n",
    "            yield cut_words_with_pos(chapter)\n",
    "\n",
    "def split_by_chapter(filepath):\n",
    "    text = open(filepath).read()\n",
    "    chapter_list = re.split(r'第.{1,3}章\\n', text)[1:]\n",
    "    return chapter_list\n",
    "\n",
    "\n",
    "def cut_words_with_pos(text):\n",
    "    seg = jieba.posseg.cut(text)\n",
    "    res = []\n",
    "    for i in seg:\n",
    "        if i.flag in [\"a\", \"v\", \"x\", \"n\", \"an\", \"vn\", \"nz\", \"nt\", \"nr\"] and is_fine_word(i.word):\n",
    "            res.append(i.word)\n",
    "\n",
    "    return list(res)\n",
    "\n"
   ]
  },
  {
   "cell_type": "code",
   "execution_count": 5,
   "metadata": {},
   "outputs": [],
   "source": [
    "# 过滤词长，过滤停用词，只保留中文\n",
    "def is_fine_word(word, min_length=2):\n",
    "    rule = re.compile(r\"^[\\u4e00-\\u9fa5]+$\")\n",
    "    if len(word) >= min_length and word not in STOP_WORDS and re.search(rule, word):\n",
    "        return True\n",
    "    else:\n",
    "        return False"
   ]
  },
  {
   "cell_type": "code",
   "execution_count": null,
   "metadata": {},
   "outputs": [],
   "source": []
  }
 ],
 "metadata": {
  "kernelspec": {
   "display_name": "Python 3",
   "language": "python",
   "name": "python3"
  },
  "language_info": {
   "codemirror_mode": {
    "name": "ipython",
    "version": 3
   },
   "file_extension": ".py",
   "mimetype": "text/x-python",
   "name": "python",
   "nbconvert_exporter": "python",
   "pygments_lexer": "ipython3",
   "version": "3.6.5"
  }
 },
 "nbformat": 4,
 "nbformat_minor": 2
}
