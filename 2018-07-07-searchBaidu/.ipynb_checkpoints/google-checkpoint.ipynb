{
 "cells": [
  {
   "cell_type": "code",
   "execution_count": 7,
   "metadata": {},
   "outputs": [
    {
     "ename": "NameError",
     "evalue": "name '__file__' is not defined",
     "output_type": "error",
     "traceback": [
      "\u001b[0;31m---------------------------------------------------------------------------\u001b[0m",
      "\u001b[0;31mNameError\u001b[0m                                 Traceback (most recent call last)",
      "\u001b[0;32m<ipython-input-7-9957b1dae3b3>\u001b[0m in \u001b[0;36m<module>\u001b[0;34m()\u001b[0m\n\u001b[1;32m      5\u001b[0m \u001b[0;32mimport\u001b[0m \u001b[0mpprint\u001b[0m\u001b[0;34m\u001b[0m\u001b[0m\n\u001b[1;32m      6\u001b[0m \u001b[0;34m\u001b[0m\u001b[0m\n\u001b[0;32m----> 7\u001b[0;31m \u001b[0msys\u001b[0m\u001b[0;34m.\u001b[0m\u001b[0mpath\u001b[0m\u001b[0;34m.\u001b[0m\u001b[0mappend\u001b[0m\u001b[0;34m(\u001b[0m\u001b[0mos\u001b[0m\u001b[0;34m.\u001b[0m\u001b[0mpath\u001b[0m\u001b[0;34m.\u001b[0m\u001b[0mdirname\u001b[0m\u001b[0;34m(\u001b[0m\u001b[0mos\u001b[0m\u001b[0;34m.\u001b[0m\u001b[0mpath\u001b[0m\u001b[0;34m.\u001b[0m\u001b[0mdirname\u001b[0m\u001b[0;34m(\u001b[0m\u001b[0m__file__\u001b[0m\u001b[0;34m)\u001b[0m\u001b[0;34m)\u001b[0m\u001b[0;34m)\u001b[0m\u001b[0;34m\u001b[0m\u001b[0m\n\u001b[0m\u001b[1;32m      8\u001b[0m \u001b[0;32mfrom\u001b[0m \u001b[0mMagicGoogle\u001b[0m \u001b[0;32mimport\u001b[0m \u001b[0mMagicGoogle\u001b[0m\u001b[0;34m\u001b[0m\u001b[0m\n\u001b[1;32m      9\u001b[0m \u001b[0;34m\u001b[0m\u001b[0m\n",
      "\u001b[0;31mNameError\u001b[0m: name '__file__' is not defined"
     ]
    }
   ],
   "source": [
    "import os\n",
    "import sys\n",
    "import time\n",
    "import random\n",
    "import pprint\n",
    "\n",
    "sys.path.append(os.path.dirname(os.path.dirname(__file__)))\n",
    "from MagicGoogle import MagicGoogle\n",
    "\n",
    "################################################\n",
    "# \"\"\"\n",
    "# cd MagicGoogle\n",
    "# python Examples/search_result.py\n",
    "# \"\"\"\n",
    "#################################################\n",
    "\n",
    "PROXIES = [{\n",
    "    'http': 'http://127.0.0.1:8118',\n",
    "    'https': 'http://127.0.0.1:8118'\n",
    "}]\n",
    "\n",
    "# Or MagicGoogle()\n",
    "mg = MagicGoogle(PROXIES)\n",
    "\n",
    "# The first page of results\n",
    "# result = mg.search_page(query='python')\n",
    "# print(result)\n",
    "#\n",
    "# time.sleep(random.randint(1, 5))\n",
    "\n",
    "# Get {'title','url','text'}\n",
    "for i in mg.search(query='python', num=1, language='en'):\n",
    "    pprint.pprint(i)\n",
    "\n",
    "time.sleep(random.randint(1, 5))\n",
    "\n",
    "# Output\n",
    "# {'text': 'The official home of the Python Programming Language.',\n",
    "# 'title': 'Welcome to Python .org',\n",
    "# 'url': 'https://www.python.org/'}\n",
    "\n",
    "# Get first page\n",
    "for url in mg.search_url(query='python'):\n",
    "    pprint.pprint(url)\n",
    "\n",
    "time.sleep(random.randint(1, 5))\n",
    "\n",
    "# Output\n",
    "# 'https://www.python.org/'\n",
    "# 'https://www.python.org/downloads/'\n",
    "# 'https://www.python.org/about/gettingstarted/'\n",
    "# 'https://docs.python.org/2/tutorial/'\n",
    "# 'https://docs.python.org/'\n",
    "# 'https://en.wikipedia.org/wiki/Python_(programming_language)'\n",
    "# 'https://www.codecademy.com/courses/introduction-to-python-6WeG3/0?curriculum_id=4f89dab3d788890003000096'\n",
    "# 'https://www.codecademy.com/learn/python'\n",
    "# 'https://developers.google.com/edu/python/'\n",
    "# 'https://learnpythonthehardway.org/book/'\n",
    "# 'https://www.continuum.io/downloads'\n",
    "\n",
    "# Get second page\n",
    "for url in mg.search_url(query='python', start=10):\n",
    "    pprint.pprint(url)\n",
    "\n",
    "# Output\n",
    "# 'https://github.com/python'\n",
    "# 'https://github.com/python/cpython'\n",
    "# 'https://www.learnpython.org/'\n",
    "# 'https://www.raspberrypi.org/documentation/usage/python/'\n",
    "# 'https://www.reddit.com/r/Python/'\n",
    "# 'https://www.datacamp.com/courses/intro-to-python-for-data-science'\n",
    "# 'https://www.coursera.org/learn/python'\n",
    "# 'https://www.coursera.org/learn/interactive-python-1'\n",
    "# 'http://abcnews.go.com/US/record-breaking-17-foot-python-captured-south-florida/story?id=51616851'\n",
    "# 'https://hub.docker.com/_/python/'"
   ]
  },
  {
   "cell_type": "code",
   "execution_count": null,
   "metadata": {},
   "outputs": [],
   "source": []
  }
 ],
 "metadata": {
  "kernelspec": {
   "display_name": "Python 3",
   "language": "python",
   "name": "python3"
  },
  "language_info": {
   "codemirror_mode": {
    "name": "ipython",
    "version": 3
   },
   "file_extension": ".py",
   "mimetype": "text/x-python",
   "name": "python",
   "nbconvert_exporter": "python",
   "pygments_lexer": "ipython3",
   "version": "3.6.5"
  }
 },
 "nbformat": 4,
 "nbformat_minor": 2
}
